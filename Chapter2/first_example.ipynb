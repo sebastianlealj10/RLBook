{
 "cells": [
  {
   "cell_type": "code",
   "execution_count": 24,
   "id": "e6eca3e4-a1af-43bc-9181-a97226cf0b79",
   "metadata": {},
   "outputs": [],
   "source": [
    "from __future__ import annotations\n",
    "import random"
   ]
  },
  {
   "cell_type": "code",
   "execution_count": 15,
   "id": "a0194e7d-2d69-439a-95c4-1e5cbbad80a9",
   "metadata": {},
   "outputs": [
    {
     "name": "stdout",
     "output_type": "stream",
     "text": [
      "Python 3.8.11\n"
     ]
    }
   ],
   "source": [
    "import sys\n",
    "!$sys.executable -V #this is valid in iPython/Jupyter Notebook"
   ]
  },
  {
   "cell_type": "markdown",
   "id": "c56abffd-cf11-4cc1-95ea-2e76a6cd6635",
   "metadata": {},
   "source": [
    "Define the environment that will give the agent random rewards for a limited number of steps, regardless the agent's action"
   ]
  },
  {
   "cell_type": "code",
   "execution_count": 26,
   "id": "3acee7f1-1b36-4227-a18b-9c1d347c20e5",
   "metadata": {},
   "outputs": [],
   "source": [
    "class Enviroment:\n",
    "    \"\"\"Initialize internal state\"\"\"\n",
    "    def __init__(self):\n",
    "        self.steps_left = 10\n",
    "        \n",
    "    \"\"\"Returns the current environment's observation\"\"\"    \n",
    "    def get_observation(self) -> List[float]:\n",
    "        return [0.0, 0.0, 0.0]\n",
    "    \n",
    "    \"\"\"Returns the set of actions that the agent can perform\"\"\"\n",
    "    def get_actions(self) -> List[int]:\n",
    "        return [0, 1]\n",
    "    \n",
    "    \"\"\"Signal the end of the episode\"\"\"\n",
    "    def is_done(self) -> bool:\n",
    "        return self.steps_left == 0\n",
    "    \n",
    "    \"\"\"Handles the agent's action and returns the reward for the action taken\"\"\"\n",
    "    def action(self, action: int) -> float:\n",
    "        if self.is_done():\n",
    "            raise Exception(\"Game is over\")\n",
    "        self.steps_left -= 1\n",
    "        return random.random()"
   ]
  },
  {
   "cell_type": "markdown",
   "id": "2721c4fe-3505-4e79-8200-a0b4389589ac",
   "metadata": {},
   "source": [
    "Define the agent that will interact with the environment"
   ]
  },
  {
   "cell_type": "code",
   "execution_count": 27,
   "id": "6645f5c6-8181-4b87-8079-3ca3d9cc3798",
   "metadata": {},
   "outputs": [],
   "source": [
    "class Agent:\n",
    "        \"\"\"Initialize the counter that will keep the total reward accumulated by the agent during the episode\"\"\"\n",
    "        def __init__(self):\n",
    "            self.total_reward = 0.0\n",
    "            \n",
    "        \"\"\"Acepts the environment instance as an argument and allows the agent to perform the following actions:\"\"\"\n",
    "        \"\"\"* Observe the environment\"\"\"\n",
    "        \"\"\"* Make a decision about the action to take based on the observations\"\"\"\n",
    "        \"\"\"* Submint the action to the environment\"\"\"\n",
    "        \"\"\"* Get the reward for the current step\"\"\"\n",
    "        def step(self, env: Environment):\n",
    "            current_obs = env.get_observation()\n",
    "            actions = env.get_actions()\n",
    "            reward = env.action(random.choice(actions))\n",
    "            self.total_reward += reward"
   ]
  },
  {
   "cell_type": "markdown",
   "id": "3105f9c2-8de4-41a1-81ba-cfe5a2734df1",
   "metadata": {},
   "source": [
    "Glue code which creates both classes and runs one episode "
   ]
  },
  {
   "cell_type": "code",
   "execution_count": 36,
   "id": "b3fe8b35-b38b-49eb-88e6-8dee37041618",
   "metadata": {},
   "outputs": [
    {
     "name": "stdout",
     "output_type": "stream",
     "text": [
      "10\n",
      "9\n",
      "8\n",
      "7\n",
      "6\n",
      "5\n",
      "4\n",
      "3\n",
      "2\n",
      "1\n",
      "Total reward got: 6.3682\n"
     ]
    }
   ],
   "source": [
    "env = Enviroment()\n",
    "agent = Agent()\n",
    "while not env.is_done():\n",
    "    print(env.steps_left)\n",
    "    agent.step(env)\n",
    "    \n",
    "print(\"Total reward got: %.4f\"% agent.total_reward)"
   ]
  },
  {
   "cell_type": "code",
   "execution_count": null,
   "id": "a01ae19a-a1dd-416e-99f2-fb7a552e62e5",
   "metadata": {},
   "outputs": [],
   "source": []
  }
 ],
 "metadata": {
  "kernelspec": {
   "display_name": "Python 3",
   "language": "python",
   "name": "python3"
  },
  "language_info": {
   "codemirror_mode": {
    "name": "ipython",
    "version": 3
   },
   "file_extension": ".py",
   "mimetype": "text/x-python",
   "name": "python",
   "nbconvert_exporter": "python",
   "pygments_lexer": "ipython3",
   "version": "3.8.11"
  }
 },
 "nbformat": 4,
 "nbformat_minor": 5
}
